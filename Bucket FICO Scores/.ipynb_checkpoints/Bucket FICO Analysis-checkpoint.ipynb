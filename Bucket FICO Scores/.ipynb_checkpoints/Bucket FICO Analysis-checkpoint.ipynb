{
 "cells": [
  {
   "cell_type": "code",
   "execution_count": 35,
   "id": "7bba6507-9c88-4af9-900f-30f408f50089",
   "metadata": {},
   "outputs": [],
   "source": [
    "import pandas as pd\n",
    "import numpy as np"
   ]
  },
  {
   "cell_type": "code",
   "execution_count": 3,
   "id": "93023258-251e-47c1-89c7-0915ed4de851",
   "metadata": {},
   "outputs": [],
   "source": [
    "data= pd.read_csv(\"Task 3 and 4_Loan_Data.csv\")"
   ]
  },
  {
   "cell_type": "code",
   "execution_count": 5,
   "id": "76ec9b05-c1fc-4572-9e98-10b8e53f5659",
   "metadata": {},
   "outputs": [
    {
     "data": {
      "text/html": [
       "<div>\n",
       "<style scoped>\n",
       "    .dataframe tbody tr th:only-of-type {\n",
       "        vertical-align: middle;\n",
       "    }\n",
       "\n",
       "    .dataframe tbody tr th {\n",
       "        vertical-align: top;\n",
       "    }\n",
       "\n",
       "    .dataframe thead th {\n",
       "        text-align: right;\n",
       "    }\n",
       "</style>\n",
       "<table border=\"1\" class=\"dataframe\">\n",
       "  <thead>\n",
       "    <tr style=\"text-align: right;\">\n",
       "      <th></th>\n",
       "      <th>customer_id</th>\n",
       "      <th>credit_lines_outstanding</th>\n",
       "      <th>loan_amt_outstanding</th>\n",
       "      <th>total_debt_outstanding</th>\n",
       "      <th>income</th>\n",
       "      <th>years_employed</th>\n",
       "      <th>fico_score</th>\n",
       "      <th>default</th>\n",
       "    </tr>\n",
       "  </thead>\n",
       "  <tbody>\n",
       "    <tr>\n",
       "      <th>0</th>\n",
       "      <td>8153374</td>\n",
       "      <td>0</td>\n",
       "      <td>5221.545193</td>\n",
       "      <td>3915.471226</td>\n",
       "      <td>78039.38546</td>\n",
       "      <td>5</td>\n",
       "      <td>605</td>\n",
       "      <td>0</td>\n",
       "    </tr>\n",
       "    <tr>\n",
       "      <th>1</th>\n",
       "      <td>7442532</td>\n",
       "      <td>5</td>\n",
       "      <td>1958.928726</td>\n",
       "      <td>8228.752520</td>\n",
       "      <td>26648.43525</td>\n",
       "      <td>2</td>\n",
       "      <td>572</td>\n",
       "      <td>1</td>\n",
       "    </tr>\n",
       "    <tr>\n",
       "      <th>2</th>\n",
       "      <td>2256073</td>\n",
       "      <td>0</td>\n",
       "      <td>3363.009259</td>\n",
       "      <td>2027.830850</td>\n",
       "      <td>65866.71246</td>\n",
       "      <td>4</td>\n",
       "      <td>602</td>\n",
       "      <td>0</td>\n",
       "    </tr>\n",
       "    <tr>\n",
       "      <th>3</th>\n",
       "      <td>4885975</td>\n",
       "      <td>0</td>\n",
       "      <td>4766.648001</td>\n",
       "      <td>2501.730397</td>\n",
       "      <td>74356.88347</td>\n",
       "      <td>5</td>\n",
       "      <td>612</td>\n",
       "      <td>0</td>\n",
       "    </tr>\n",
       "    <tr>\n",
       "      <th>4</th>\n",
       "      <td>4700614</td>\n",
       "      <td>1</td>\n",
       "      <td>1345.827718</td>\n",
       "      <td>1768.826187</td>\n",
       "      <td>23448.32631</td>\n",
       "      <td>6</td>\n",
       "      <td>631</td>\n",
       "      <td>0</td>\n",
       "    </tr>\n",
       "    <tr>\n",
       "      <th>...</th>\n",
       "      <td>...</td>\n",
       "      <td>...</td>\n",
       "      <td>...</td>\n",
       "      <td>...</td>\n",
       "      <td>...</td>\n",
       "      <td>...</td>\n",
       "      <td>...</td>\n",
       "      <td>...</td>\n",
       "    </tr>\n",
       "    <tr>\n",
       "      <th>9995</th>\n",
       "      <td>3972488</td>\n",
       "      <td>0</td>\n",
       "      <td>3033.647103</td>\n",
       "      <td>2553.733144</td>\n",
       "      <td>42691.62787</td>\n",
       "      <td>5</td>\n",
       "      <td>697</td>\n",
       "      <td>0</td>\n",
       "    </tr>\n",
       "    <tr>\n",
       "      <th>9996</th>\n",
       "      <td>6184073</td>\n",
       "      <td>1</td>\n",
       "      <td>4146.239304</td>\n",
       "      <td>5458.163525</td>\n",
       "      <td>79969.50521</td>\n",
       "      <td>8</td>\n",
       "      <td>615</td>\n",
       "      <td>0</td>\n",
       "    </tr>\n",
       "    <tr>\n",
       "      <th>9997</th>\n",
       "      <td>6694516</td>\n",
       "      <td>2</td>\n",
       "      <td>3088.223727</td>\n",
       "      <td>4813.090925</td>\n",
       "      <td>38192.67591</td>\n",
       "      <td>5</td>\n",
       "      <td>596</td>\n",
       "      <td>0</td>\n",
       "    </tr>\n",
       "    <tr>\n",
       "      <th>9998</th>\n",
       "      <td>3942961</td>\n",
       "      <td>0</td>\n",
       "      <td>3288.901666</td>\n",
       "      <td>1043.099660</td>\n",
       "      <td>50929.37206</td>\n",
       "      <td>2</td>\n",
       "      <td>647</td>\n",
       "      <td>0</td>\n",
       "    </tr>\n",
       "    <tr>\n",
       "      <th>9999</th>\n",
       "      <td>5533570</td>\n",
       "      <td>1</td>\n",
       "      <td>1917.652480</td>\n",
       "      <td>3050.248203</td>\n",
       "      <td>30611.62821</td>\n",
       "      <td>6</td>\n",
       "      <td>757</td>\n",
       "      <td>0</td>\n",
       "    </tr>\n",
       "  </tbody>\n",
       "</table>\n",
       "<p>10000 rows × 8 columns</p>\n",
       "</div>"
      ],
      "text/plain": [
       "      customer_id  credit_lines_outstanding  loan_amt_outstanding  \\\n",
       "0         8153374                         0           5221.545193   \n",
       "1         7442532                         5           1958.928726   \n",
       "2         2256073                         0           3363.009259   \n",
       "3         4885975                         0           4766.648001   \n",
       "4         4700614                         1           1345.827718   \n",
       "...           ...                       ...                   ...   \n",
       "9995      3972488                         0           3033.647103   \n",
       "9996      6184073                         1           4146.239304   \n",
       "9997      6694516                         2           3088.223727   \n",
       "9998      3942961                         0           3288.901666   \n",
       "9999      5533570                         1           1917.652480   \n",
       "\n",
       "      total_debt_outstanding       income  years_employed  fico_score  default  \n",
       "0                3915.471226  78039.38546               5         605        0  \n",
       "1                8228.752520  26648.43525               2         572        1  \n",
       "2                2027.830850  65866.71246               4         602        0  \n",
       "3                2501.730397  74356.88347               5         612        0  \n",
       "4                1768.826187  23448.32631               6         631        0  \n",
       "...                      ...          ...             ...         ...      ...  \n",
       "9995             2553.733144  42691.62787               5         697        0  \n",
       "9996             5458.163525  79969.50521               8         615        0  \n",
       "9997             4813.090925  38192.67591               5         596        0  \n",
       "9998             1043.099660  50929.37206               2         647        0  \n",
       "9999             3050.248203  30611.62821               6         757        0  \n",
       "\n",
       "[10000 rows x 8 columns]"
      ]
     },
     "execution_count": 5,
     "metadata": {},
     "output_type": "execute_result"
    }
   ],
   "source": [
    "data"
   ]
  },
  {
   "cell_type": "code",
   "execution_count": 17,
   "id": "39826498-086f-46fd-b41f-f31ad81f2cd6",
   "metadata": {},
   "outputs": [
    {
     "data": {
      "text/plain": [
       "<Axes: ylabel='Frequency'>"
      ]
     },
     "execution_count": 17,
     "metadata": {},
     "output_type": "execute_result"
    },
    {
     "data": {
      "image/png": "[encoded data removed]",
      "text/plain": [
       "<Figure size 640x480 with 1 Axes>"
      ]
     },
     "metadata": {},
     "output_type": "display_data"
    }
   ],
   "source": [
    "data[\"fico_score\"].plot.hist(bins=1000)"
   ]
  },
  {
   "cell_type": "code",
   "execution_count": 47,
   "id": "336126fe-485e-44b9-a901-e719dce2233f",
   "metadata": {},
   "outputs": [],
   "source": [
    "#data[\"buckets\"]= pd.qcut(data[\"fico_score\"], q = 8, labels = False)"
   ]
  },
  {
   "cell_type": "code",
   "execution_count": 53,
   "id": "49e207e4-ec8f-4d24-b5fa-a19f6ea2cb86",
   "metadata": {},
   "outputs": [
    {
     "data": {
      "text/plain": [
       "customer_id                   int64\n",
       "credit_lines_outstanding      int64\n",
       "loan_amt_outstanding        float64\n",
       "total_debt_outstanding      float64\n",
       "income                      float64\n",
       "years_employed                int64\n",
       "fico_score                    int64\n",
       "default                       int64\n",
       "bucket                        int64\n",
       "buckets                     float64\n",
       "dtype: object"
      ]
     },
     "execution_count": 53,
     "metadata": {},
     "output_type": "execute_result"
    }
   ],
   "source": [
    "data"
   ]
  },
  {
   "cell_type": "code",
   "execution_count": 37,
   "id": "dfded65c-8698-48e7-92c6-9fc65cfa6623",
   "metadata": {},
   "outputs": [],
   "source": [
    "def find_mse(fico_bucket):\n",
    "    mean_val = fico_bucket.mean()\n",
    "    mse = ((fico_bucket-mean_val)**2).mean()\n",
    "    return mse"
   ]
  },
  {
   "cell_type": "code",
   "execution_count": 77,
   "id": "7c39aff5-11cd-47df-ae91-7bc5d5c6b33c",
   "metadata": {},
   "outputs": [],
   "source": [
    "def find_all_mean_mse(infodf):\n",
    "    mse_vals =[]\n",
    "    for bucket in range(infodf[\"buckets\"].max()):\n",
    "        bucket_data = infodf[infodf[\"buckets\"]==bucket][\"fico_score\"]\n",
    "        mse_vals.append(find_mse(bucket_data))\n",
    "    return np.mean(mse_vals)"
   ]
  },
  {
   "cell_type": "code",
   "execution_count": 99,
   "id": "67e93826-5584-4dc3-b01f-17fdafd68bcf",
   "metadata": {},
   "outputs": [],
   "source": [
    "def optimise_buckets(data_df):\n",
    "    mean_mse_vals= {}\n",
    "    for i in range(2,15):\n",
    "        data_df[\"buckets\"]= pd.qcut(data_df[\"fico_score\"], q = i, labels = False).astype(int)\n",
    "        mean_mse = find_all_mean_mse(data_df)\n",
    "        mean_mse_vals[mean_mse] =i\n",
    "    min_mean_mse = min(mean_mse_vals.keys())\n",
    "    return mean_mse_vals[min_mean_mse]\n",
    "    "
   ]
  },
  {
   "cell_type": "code",
   "execution_count": 103,
   "id": "a0f0e5e7-19a3-45d1-a729-71eda0a75aea",
   "metadata": {},
   "outputs": [
    {
     "data": {
      "text/plain": [
       "14"
      ]
     },
     "execution_count": 103,
     "metadata": {},
     "output_type": "execute_result"
    }
   ],
   "source": [
    "optimise_buckets(data)"
   ]
  },
  {
   "cell_type": "code",
   "execution_count": null,
   "id": "087f8e96-d6ac-4bd5-b6d9-bf54ab12220f",
   "metadata": {},
   "outputs": [],
   "source": []
  }
 ],
 "metadata": {
  "kernelspec": {
   "display_name": "Python 3 (ipykernel)",
   "language": "python",
   "name": "python3"
  },
  "language_info": {
   "codemirror_mode": {
    "name": "ipython",
    "version": 3
   },
   "file_extension": ".py",
   "mimetype": "text/x-python",
   "name": "python",
   "nbconvert_exporter": "python",
   "pygments_lexer": "ipython3",
   "version": "3.11.7"
  }
 },
 "nbformat": 4,
 "nbformat_minor": 5
}
